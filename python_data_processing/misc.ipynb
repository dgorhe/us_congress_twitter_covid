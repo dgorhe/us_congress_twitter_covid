{
 "cells": [
  {
   "cell_type": "code",
   "execution_count": 42,
   "id": "79462ed1",
   "metadata": {},
   "outputs": [],
   "source": [
    "import pandas as pd\n",
    "import json"
   ]
  },
  {
   "cell_type": "code",
   "execution_count": 72,
   "id": "366356a4",
   "metadata": {},
   "outputs": [],
   "source": [
    "yearly_state_mobility_data = pd.read_csv(\"../data/created/state_mobility_data.csv\", index_col=0)"
   ]
  },
  {
   "cell_type": "code",
   "execution_count": 73,
   "id": "d6a80348",
   "metadata": {},
   "outputs": [],
   "source": [
    "yearly_state_mobility_data.columns = ['unabbreviated_state', 'retail_and_recreation_percent_change_from_baseline',\n",
    "       'grocery_and_pharmacy_yearly_percent_change',\n",
    "       'parks_percent_yearly_change',\n",
    "       'transit_stations_yearly_percent_change',\n",
    "       'workplaces_yearly_percent_change',\n",
    "       'residential_yearly_percent_change']"
   ]
  },
  {
   "cell_type": "code",
   "execution_count": 74,
   "id": "1ccd6023",
   "metadata": {},
   "outputs": [],
   "source": [
    "labeled_tweets = pd.read_csv(\"../data/created/congress_tweets_labeled.csv\")"
   ]
  },
  {
   "cell_type": "code",
   "execution_count": 75,
   "id": "1cfb36cd",
   "metadata": {},
   "outputs": [
    {
     "data": {
      "text/plain": [
       "403376"
      ]
     },
     "execution_count": 75,
     "metadata": {},
     "output_type": "execute_result"
    }
   ],
   "source": [
    "len(labeled_tweets)"
   ]
  },
  {
   "cell_type": "code",
   "execution_count": 76,
   "id": "ffef157c",
   "metadata": {},
   "outputs": [],
   "source": [
    "labeled_tweets = labeled_tweets.drop_duplicates(subset=[\"tweet_id\"])"
   ]
  },
  {
   "cell_type": "code",
   "execution_count": 77,
   "id": "cbccec9c",
   "metadata": {},
   "outputs": [],
   "source": [
    "new_df = labeled_tweets.merge(yearly_state_mobility_data, on='unabbreviated_state')"
   ]
  },
  {
   "cell_type": "code",
   "execution_count": 79,
   "id": "20450fff",
   "metadata": {},
   "outputs": [],
   "source": [
    "pd.DataFrame.to_csv(new_df, \"../data/created/tweets_yearly_mobility_data.csv\", index=False)"
   ]
  },
  {
   "cell_type": "code",
   "execution_count": 84,
   "id": "640fb053",
   "metadata": {},
   "outputs": [],
   "source": [
    "for_interactive_plot = new_df[[\"abbreviated_state\", \"unabbreviated_state\", \"covid_label\", \"date_and_time\"]]"
   ]
  },
  {
   "cell_type": "code",
   "execution_count": 86,
   "id": "ab4048b6",
   "metadata": {},
   "outputs": [],
   "source": [
    "pd.DataFrame.to_csv(for_interactive_plot, \"../data/created/for_interactive_plot.csv\", index=False)"
   ]
  }
 ],
 "metadata": {
  "kernelspec": {
   "display_name": "Python 3 (ipykernel)",
   "language": "python",
   "name": "python3"
  },
  "language_info": {
   "codemirror_mode": {
    "name": "ipython",
    "version": 3
   },
   "file_extension": ".py",
   "mimetype": "text/x-python",
   "name": "python",
   "nbconvert_exporter": "python",
   "pygments_lexer": "ipython3",
   "version": "3.9.9"
  }
 },
 "nbformat": 4,
 "nbformat_minor": 5
}
