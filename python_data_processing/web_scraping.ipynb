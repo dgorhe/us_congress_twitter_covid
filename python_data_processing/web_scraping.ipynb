{
 "cells": [
  {
   "cell_type": "code",
   "execution_count": null,
   "id": "4a292b56",
   "metadata": {},
   "outputs": [],
   "source": [
    "import requests\n",
    "import tweepy\n",
    "import pandas as pd\n",
    "import math\n",
    "import json\n",
    "from datetime import datetime as dt\n",
    "from datetime import timezone as tz"
   ]
  },
  {
   "cell_type": "code",
   "execution_count": null,
   "id": "217a49af",
   "metadata": {},
   "outputs": [],
   "source": [
    "CREDENTIALS_PATH = \"./credentials.json\"\n",
    "credentials = \"\"\n",
    "with open(CREDENTIALS_PATH, \"r\") as cred:\n",
    "    credentials = json.load(cred)\n",
    "    \n",
    "client = tweepy.Client(**credentials)"
   ]
  },
  {
   "cell_type": "code",
   "execution_count": null,
   "id": "8be07b37",
   "metadata": {},
   "outputs": [],
   "source": [
    "df = pd.read_csv(\"../data/source/congress_member_data.csv\")\n",
    "congress_twitter_handles = [x for x in list(df[\"twitter\"]) if type(x) == str]"
   ]
  },
  {
   "cell_type": "code",
   "execution_count": null,
   "id": "b625a974",
   "metadata": {},
   "outputs": [],
   "source": [
    "# Static parameters for tweet search\n",
    "fields = ['created_at', 'geo', 'lang']\n",
    "start_utc = dt.strptime(\"01/01/2020 00:00:00\", \"%m/%d/%Y %H:%M:%S\")\n",
    "end_utc = dt.strptime(\"12/31/2020 11:59:59\", \"%m/%d/%Y %H:%M:%S\")\n",
    "start_utc_iso8601 = start_utc.astimezone(tz.utc).isoformat('T', timespec='milliseconds').replace(\"+00:00\", \"Z\")\n",
    "end_utc_iso8601 = end_utc.astimezone(tz.utc).isoformat('T', timespec='milliseconds').replace(\"+00:00\", \"Z\")\n",
    "\n",
    "# Formatted dictionary to \n",
    "users_tweets_kwargs = {\n",
    "    \"max_results\": 100,\n",
    "    \"start_time\": start_utc_iso8601,\n",
    "    \"end_time\": end_utc_iso8601,\n",
    "    \"tweet_fields\": fields\n",
    "}"
   ]
  },
  {
   "cell_type": "code",
   "execution_count": null,
   "id": "cf0adf4a",
   "metadata": {},
   "outputs": [],
   "source": [
    "def write_to_csv(filename, dictionary):\n",
    "    with open(filename, \"w\") as f:\n",
    "        for key, value in dictionary.items():\n",
    "            if len(value) != 0:\n",
    "                for val in value:\n",
    "                    text = val.text.replace('\"', '\\\\\"').replace(\"'\", \"\\\\'\").replace(\"\\n\", \"\").replace(\",\", \"\").strip()\n",
    "                    text = \"\\\"\" + text + \"\\\"\"\n",
    "                    items = [key, text, str(val.id), str(val.geo), str(val.lang), str(val.created_at)]\n",
    "                    line = \",\".join(items) + \"\\n\"\n",
    "                    f.write(line)\n",
    "            else:\n",
    "                items = [key, \"\", \"\", \"\", \"\"]\n",
    "                line = \",\".join(items) + \"\\n\"\n",
    "                f.write(line)"
   ]
  },
  {
   "cell_type": "code",
   "execution_count": null,
   "id": "35bcd78f",
   "metadata": {},
   "outputs": [],
   "source": [
    "def get_tweets(client, handles, tweet_details, checked_handles, dictionary={}):\n",
    "    checked = open(cache, \"r+\")\n",
    "#     checked_handles = [line for line in checked.read().split(\"\\n\") if line != \"\"]\n",
    "    \n",
    "    print(\"There are\", 522 - len(checked_handles), \"to check\")\n",
    "    # Looping through all twitter handles to get tweets\n",
    "    for handle in handles:\n",
    "        if handle not in checked_handles:\n",
    "            congress_person = client.get_user(username=handle)\n",
    "            if congress_person.data != None:\n",
    "                tweet_details[\"id\"] = congress_person.data.id\n",
    "                paginator = tweepy.Paginator(client.get_users_tweets, **tweet_details)\n",
    "                dictionary[handle] = []\n",
    "\n",
    "                # Iterate through pages of 100 tweets and append each tweet\n",
    "                for response in paginator:\n",
    "                    if (response.data) and (len(response.data) > 0):\n",
    "                        for tweet in response.data:\n",
    "                            dictionary[handle].append(tweet)\n",
    "            else:\n",
    "                dictionary[handle] = []\n",
    "\n",
    "            # Writing to csv, one handle at a time\n",
    "            filename = \"../data/\" + \"congress_tweets_\" + handle + \".csv\"\n",
    "            write_to_csv(filename, dictionary)\n",
    "            \n",
    "            # TODO: Fix checked_handles not being written to txt file\n",
    "            with open(cache, \"w+\") as c:\n",
    "                c.write(handle + \"\\n\")\n",
    "            \n",
    "            checked_handles.append(handle)\n",
    "            dictionary = {}\n",
    "            print(\"Finished\", handle)\n",
    "        else:\n",
    "            print(\"Already Checked\", handle)\n",
    "\n",
    "    return checked_handles"
   ]
  },
  {
   "cell_type": "code",
   "execution_count": null,
   "id": "253f5c1f",
   "metadata": {},
   "outputs": [],
   "source": [
    "cache = \"../data/checked_handles_new.txt\"\n",
    "checked = open(cache, \"r+\")\n",
    "checked_handles = [line for line in checked.read().split(\"\\n\") if line != \"\"]\n",
    "checked.close()"
   ]
  },
  {
   "cell_type": "code",
   "execution_count": null,
   "id": "889f40d6",
   "metadata": {},
   "outputs": [],
   "source": [
    "print(len(checked_handles))"
   ]
  },
  {
   "cell_type": "code",
   "execution_count": null,
   "id": "6968fced",
   "metadata": {},
   "outputs": [],
   "source": [
    "get_tweets(client, congress_twitter_handles, users_tweets_kwargs, checked_handles)"
   ]
  }
 ],
 "metadata": {
  "kernelspec": {
   "display_name": "Python 3 (ipykernel)",
   "language": "python",
   "name": "python3"
  },
  "language_info": {
   "codemirror_mode": {
    "name": "ipython",
    "version": 3
   },
   "file_extension": ".py",
   "mimetype": "text/x-python",
   "name": "python",
   "nbconvert_exporter": "python",
   "pygments_lexer": "ipython3",
   "version": "3.9.9"
  }
 },
 "nbformat": 4,
 "nbformat_minor": 5
}
