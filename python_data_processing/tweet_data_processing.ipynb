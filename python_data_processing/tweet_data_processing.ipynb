{
 "cells": [
  {
   "cell_type": "code",
   "execution_count": 1,
   "id": "9f71ea8b",
   "metadata": {},
   "outputs": [],
   "source": [
    "import pandas as pd\n",
    "import json\n",
    "import emoji"
   ]
  },
  {
   "cell_type": "markdown",
   "id": "f3e982fb",
   "metadata": {},
   "source": [
    "# Loading Data"
   ]
  },
  {
   "cell_type": "code",
   "execution_count": 2,
   "id": "7fcdf68b",
   "metadata": {},
   "outputs": [],
   "source": [
    "# Setting up references for source and created data\n",
    "SOURCE_DIR = \"../data/source/\"\n",
    "CREATED_DIR = \"../data/created/\"\n",
    "CREATED_SAMPLE_DIR = \"../data/created/sample/\""
   ]
  },
  {
   "cell_type": "code",
   "execution_count": 3,
   "id": "9189172c",
   "metadata": {},
   "outputs": [],
   "source": [
    "headers = ['twitter_handle',\n",
    " 'tweet_content',\n",
    " 'tweet_id',\n",
    " 'geolocation_of_tweet',\n",
    " 'language_of_tweet',\n",
    " 'date_and_time' \n",
    "]\n",
    "congress_tweets = pd.read_csv(CREATED_DIR + \"congress_tweets_raw.csv\", low_memory=False, names=headers)"
   ]
  },
  {
   "cell_type": "markdown",
   "id": "449e573c",
   "metadata": {},
   "source": [
    "# Cleaning"
   ]
  },
  {
   "cell_type": "markdown",
   "id": "ecf4b4a9",
   "metadata": {},
   "source": [
    "## Dropping NA Values"
   ]
  },
  {
   "cell_type": "code",
   "execution_count": 5,
   "id": "c8bb56c1",
   "metadata": {},
   "outputs": [],
   "source": [
    "congress_tweets = congress_tweets.dropna(subset=[\"tweet_id\", \"tweet_content\"], axis=0).reset_index(drop=True)"
   ]
  },
  {
   "cell_type": "markdown",
   "id": "6b111dc2",
   "metadata": {},
   "source": [
    "## Missing Twitter Handle"
   ]
  },
  {
   "cell_type": "code",
   "execution_count": 6,
   "id": "41b93378",
   "metadata": {},
   "outputs": [],
   "source": [
    "congress_tweets = congress_tweets[congress_tweets[\"twitter_handle\"].map(lambda x: len(x) < 30)].reset_index(drop=True)"
   ]
  },
  {
   "cell_type": "markdown",
   "id": "d7c12c58",
   "metadata": {},
   "source": [
    "## Filtering emojis"
   ]
  },
  {
   "cell_type": "code",
   "execution_count": 7,
   "id": "d00135a8",
   "metadata": {},
   "outputs": [],
   "source": [
    "congress_tweets = congress_tweets[congress_tweets[\"twitter_handle\"].map(lambda x: emoji.demojize(x) == x)].reset_index(drop=True)"
   ]
  },
  {
   "cell_type": "markdown",
   "id": "b176eb03",
   "metadata": {},
   "source": [
    "## Removing Duplicate Tweet IDs"
   ]
  },
  {
   "cell_type": "code",
   "execution_count": 8,
   "id": "93f95884",
   "metadata": {},
   "outputs": [],
   "source": [
    "congress_tweets = congress_tweets.drop_duplicates(subset = [\"tweet_id\"]).reset_index(drop=True)"
   ]
  },
  {
   "cell_type": "markdown",
   "id": "c06160ec",
   "metadata": {},
   "source": [
    "# Adding Congress Member Metadata"
   ]
  },
  {
   "cell_type": "code",
   "execution_count": 9,
   "id": "c6344aa5",
   "metadata": {},
   "outputs": [],
   "source": [
    "congress_member_data = pd.read_csv(SOURCE_DIR + \"congress_member_data.csv\", index_col=0)\n",
    "cols = list(congress_member_data.columns)"
   ]
  },
  {
   "cell_type": "code",
   "execution_count": 10,
   "id": "237509a5",
   "metadata": {},
   "outputs": [],
   "source": [
    "twitter = list(congress_member_data[\"twitter\"])\n",
    "full_name = list(congress_member_data[\"full_name\"])\n",
    "abbreviated_state = list(congress_member_data[\"state\"])\n",
    "assert len(twitter) == len(full_name) == len(abbreviated_state)\n",
    "\n",
    "\n",
    "handles = list(congress_tweets[\"twitter_handle\"])"
   ]
  },
  {
   "cell_type": "markdown",
   "id": "b41ab1fa",
   "metadata": {},
   "source": [
    "## List of Full Names"
   ]
  },
  {
   "cell_type": "code",
   "execution_count": 11,
   "id": "d8f59251",
   "metadata": {},
   "outputs": [],
   "source": [
    "twitter_full_name = {}\n",
    "for i in range(len(full_name)):\n",
    "    twitter_full_name[twitter[i]] = full_name[i]\n",
    "\n",
    "full_names_tweets = [twitter_full_name[x] for x in handles]\n",
    "congress_tweets = congress_tweets.copy()\n",
    "\n",
    "congress_tweets[\"full_name_of_member\"] = full_names_tweets"
   ]
  },
  {
   "cell_type": "markdown",
   "id": "a36395c5",
   "metadata": {},
   "source": [
    "## Abbreviated State Name"
   ]
  },
  {
   "cell_type": "code",
   "execution_count": 12,
   "id": "a1e2822a",
   "metadata": {},
   "outputs": [],
   "source": [
    "twitter_abbreviated_state = {}\n",
    "\n",
    "for i in range(len(abbreviated_state)):\n",
    "    twitter_abbreviated_state[twitter[i]] = abbreviated_state[i]\n",
    "    \n",
    "abbreviated_state_tweets = [twitter_abbreviated_state[x] for x in handles]\n",
    "congress_tweets = congress_tweets.copy()\n",
    "\n",
    "congress_tweets[\"abbreviated_state\"] = abbreviated_state_tweets"
   ]
  },
  {
   "cell_type": "markdown",
   "id": "faf5aaec",
   "metadata": {},
   "source": [
    "## List Unabbreviated State Name"
   ]
  },
  {
   "cell_type": "code",
   "execution_count": 13,
   "id": "983b4557",
   "metadata": {},
   "outputs": [],
   "source": [
    "states = json.load(open(SOURCE_DIR + \"states.json\", encoding=\"utf-8\"))\n",
    "unabbreviated_state_tweets = [states[x] for x in abbreviated_state_tweets]\n",
    "\n",
    "congress_tweets = congress_tweets.copy()\n",
    "congress_tweets[\"unabbreviated_state\"] = unabbreviated_state_tweets"
   ]
  },
  {
   "cell_type": "code",
   "execution_count": 14,
   "id": "01beb243",
   "metadata": {},
   "outputs": [],
   "source": [
    "full_name = list(congress_member_data[\"full_name\"])\n",
    "type_of_member = list(congress_member_data[\"type\"])\n",
    "\n",
    "full_name_type = {}\n",
    "\n",
    "if len(full_name) == len(type_of_member):\n",
    "    for i in range(len(type_of_member)):\n",
    "        if type_of_member[i] == \"sen\":\n",
    "            full_name_type[full_name[i]] = \"Senator\"\n",
    "        elif type_of_member[i] == \"rep\":\n",
    "            full_name_type[full_name[i]] = \"Representative\"\n",
    "\n",
    "member_name = list(congress_tweets[\"full_name_of_member\"])\n",
    "\n",
    "\n",
    "type_of_member_tweets = [full_name_type[x] for x in member_name]\n",
    "congress_tweets = congress_tweets.copy()\n",
    "\n",
    "congress_tweets[\"type_of_member\"] = type_of_member_tweets"
   ]
  },
  {
   "cell_type": "markdown",
   "id": "f2c9ccbe",
   "metadata": {},
   "source": [
    "## Adding Full Language Names"
   ]
  },
  {
   "cell_type": "code",
   "execution_count": 15,
   "id": "17283161",
   "metadata": {},
   "outputs": [],
   "source": [
    "languages = json.load(open(SOURCE_DIR + \"languages.json\", encoding=\"utf-8\"))\n",
    "all_language_codes = languages.keys()"
   ]
  },
  {
   "cell_type": "code",
   "execution_count": 16,
   "id": "e35fe091",
   "metadata": {},
   "outputs": [],
   "source": [
    "language_of_tweet = list(congress_tweets[\"language_of_tweet\"])\n",
    "twitter_language = []\n",
    "\n",
    "for lang in language_of_tweet:\n",
    "    if lang in all_language_codes:\n",
    "        twitter_language.append(languages[lang][\"name\"])\n",
    "    else:\n",
    "        twitter_language.append(\"Undetermined\")\n",
    "\n",
    "congress_tweets[\"language_of_tweet\"] = twitter_language"
   ]
  },
  {
   "cell_type": "markdown",
   "id": "40133378",
   "metadata": {},
   "source": [
    "## Party"
   ]
  },
  {
   "cell_type": "code",
   "execution_count": 17,
   "id": "d9761aec",
   "metadata": {},
   "outputs": [],
   "source": [
    "twitter_party = {}\n",
    "\n",
    "# twitter = list(congress_member_data[\"twitter\"])\n",
    "party = list(congress_member_data[\"party\"])\n",
    "\n",
    "for i in range(len(twitter)):\n",
    "    twitter_party[twitter[i]] = party[i]\n",
    "\n",
    "party_of_member = []\n",
    "for handle in handles:\n",
    "    party_of_member.append(twitter_party[handle])\n",
    "    \n",
    "\n",
    "congress_tweets = congress_tweets.copy()\n",
    "congress_tweets[\"party_of_member\"] = party_of_member"
   ]
  },
  {
   "cell_type": "code",
   "execution_count": 18,
   "id": "7439491c",
   "metadata": {},
   "outputs": [
    {
     "data": {
      "text/html": [
       "<div>\n",
       "<style scoped>\n",
       "    .dataframe tbody tr th:only-of-type {\n",
       "        vertical-align: middle;\n",
       "    }\n",
       "\n",
       "    .dataframe tbody tr th {\n",
       "        vertical-align: top;\n",
       "    }\n",
       "\n",
       "    .dataframe thead th {\n",
       "        text-align: right;\n",
       "    }\n",
       "</style>\n",
       "<table border=\"1\" class=\"dataframe\">\n",
       "  <thead>\n",
       "    <tr style=\"text-align: right;\">\n",
       "      <th></th>\n",
       "      <th>twitter_handle</th>\n",
       "      <th>tweet_content</th>\n",
       "      <th>tweet_id</th>\n",
       "      <th>geolocation_of_tweet</th>\n",
       "      <th>language_of_tweet</th>\n",
       "      <th>date_and_time</th>\n",
       "      <th>full_name_of_member</th>\n",
       "      <th>abbreviated_state</th>\n",
       "      <th>unabbreviated_state</th>\n",
       "      <th>type_of_member</th>\n",
       "      <th>party_of_member</th>\n",
       "    </tr>\n",
       "  </thead>\n",
       "  <tbody>\n",
       "    <tr>\n",
       "      <th>0</th>\n",
       "      <td>RepEspaillat</td>\n",
       "      <td>Pass the #CASHAct Mitch! This has been a devas...</td>\n",
       "      <td>1344299700539764736</td>\n",
       "      <td>None</td>\n",
       "      <td>English</td>\n",
       "      <td>2020-12-30 15:09:59+00:00</td>\n",
       "      <td>Adriano Espaillat</td>\n",
       "      <td>NY</td>\n",
       "      <td>New York</td>\n",
       "      <td>Representative</td>\n",
       "      <td>Democrat</td>\n",
       "    </tr>\n",
       "    <tr>\n",
       "      <th>1</th>\n",
       "      <td>RepEspaillat</td>\n",
       "      <td>News of the loss of Congressman-Elect Luke Let...</td>\n",
       "      <td>1344282084521684992</td>\n",
       "      <td>None</td>\n",
       "      <td>English</td>\n",
       "      <td>2020-12-30 13:59:59+00:00</td>\n",
       "      <td>Adriano Espaillat</td>\n",
       "      <td>NY</td>\n",
       "      <td>New York</td>\n",
       "      <td>Representative</td>\n",
       "      <td>Democrat</td>\n",
       "    </tr>\n",
       "    <tr>\n",
       "      <th>2</th>\n",
       "      <td>RepEspaillat</td>\n",
       "      <td>#WearAMask wash your hands practice social dis...</td>\n",
       "      <td>1344115508933783554</td>\n",
       "      <td>None</td>\n",
       "      <td>English</td>\n",
       "      <td>2020-12-30 02:58:04+00:00</td>\n",
       "      <td>Adriano Espaillat</td>\n",
       "      <td>NY</td>\n",
       "      <td>New York</td>\n",
       "      <td>Representative</td>\n",
       "      <td>Democrat</td>\n",
       "    </tr>\n",
       "    <tr>\n",
       "      <th>3</th>\n",
       "      <td>RepEspaillat</td>\n",
       "      <td>Can someone tell me why @senatemajldr continue...</td>\n",
       "      <td>1344075603742515201</td>\n",
       "      <td>None</td>\n",
       "      <td>English</td>\n",
       "      <td>2020-12-30 00:19:30+00:00</td>\n",
       "      <td>Adriano Espaillat</td>\n",
       "      <td>NY</td>\n",
       "      <td>New York</td>\n",
       "      <td>Representative</td>\n",
       "      <td>Democrat</td>\n",
       "    </tr>\n",
       "    <tr>\n",
       "      <th>4</th>\n",
       "      <td>RepEspaillat</td>\n",
       "      <td>Delighted to join friends during the #NY13 Kwa...</td>\n",
       "      <td>1344014037588324352</td>\n",
       "      <td>None</td>\n",
       "      <td>English</td>\n",
       "      <td>2020-12-29 20:14:51+00:00</td>\n",
       "      <td>Adriano Espaillat</td>\n",
       "      <td>NY</td>\n",
       "      <td>New York</td>\n",
       "      <td>Representative</td>\n",
       "      <td>Democrat</td>\n",
       "    </tr>\n",
       "  </tbody>\n",
       "</table>\n",
       "</div>"
      ],
      "text/plain": [
       "  twitter_handle                                      tweet_content  \\\n",
       "0   RepEspaillat  Pass the #CASHAct Mitch! This has been a devas...   \n",
       "1   RepEspaillat  News of the loss of Congressman-Elect Luke Let...   \n",
       "2   RepEspaillat  #WearAMask wash your hands practice social dis...   \n",
       "3   RepEspaillat  Can someone tell me why @senatemajldr continue...   \n",
       "4   RepEspaillat  Delighted to join friends during the #NY13 Kwa...   \n",
       "\n",
       "              tweet_id geolocation_of_tweet language_of_tweet  \\\n",
       "0  1344299700539764736                 None           English   \n",
       "1  1344282084521684992                 None           English   \n",
       "2  1344115508933783554                 None           English   \n",
       "3  1344075603742515201                 None           English   \n",
       "4  1344014037588324352                 None           English   \n",
       "\n",
       "               date_and_time full_name_of_member abbreviated_state  \\\n",
       "0  2020-12-30 15:09:59+00:00   Adriano Espaillat                NY   \n",
       "1  2020-12-30 13:59:59+00:00   Adriano Espaillat                NY   \n",
       "2  2020-12-30 02:58:04+00:00   Adriano Espaillat                NY   \n",
       "3  2020-12-30 00:19:30+00:00   Adriano Espaillat                NY   \n",
       "4  2020-12-29 20:14:51+00:00   Adriano Espaillat                NY   \n",
       "\n",
       "  unabbreviated_state  type_of_member party_of_member  \n",
       "0            New York  Representative        Democrat  \n",
       "1            New York  Representative        Democrat  \n",
       "2            New York  Representative        Democrat  \n",
       "3            New York  Representative        Democrat  \n",
       "4            New York  Representative        Democrat  "
      ]
     },
     "execution_count": 18,
     "metadata": {},
     "output_type": "execute_result"
    }
   ],
   "source": [
    "congress_tweets.head()"
   ]
  },
  {
   "cell_type": "markdown",
   "id": "38d21130",
   "metadata": {},
   "source": [
    "# Writing to csv"
   ]
  },
  {
   "cell_type": "code",
   "execution_count": 19,
   "id": "b2b8f342",
   "metadata": {},
   "outputs": [],
   "source": [
    "congress_tweets_processed_unlabeled = \"/Users/darvesh/Programming/R/fall2021/gr5702/us_congress_twitter_covid/data/created/congress_tweets_processed_unlabeled.csv\"\n",
    "pd.DataFrame.to_csv(congress_tweets, congress_tweets_processed_unlabeled, index=False)"
   ]
  },
  {
   "cell_type": "code",
   "execution_count": 20,
   "id": "6fca7e60",
   "metadata": {},
   "outputs": [],
   "source": [
    "d = {\n",
    "    'twitter_handle': 'string',\n",
    "    'tweet_content': 'string',\n",
    "    'tweet_id': 'string',\n",
    "    'geolocation_of_tweet': 'object',\n",
    "    'language_of_tweet': 'string',\n",
    "    'date_and_time': 'object',\n",
    "    'full_name_of_member': 'string',\n",
    "    'abbreviated_state': 'string',\n",
    "    'unabbreviated_state': 'string',\n",
    "    'type_of_member': 'string',\n",
    "    'party_of_member': 'string'\n",
    "}\n",
    "\n",
    "dtypes_json_path = \"/Users/darvesh/Programming/R/fall2021/gr5702/us_congress_twitter_covid/data/created/tweet_column_data_types.json\"\n",
    "d_json = json.dumps(d)\n",
    "\n",
    "with open(dtypes_json_path, \"w+\") as filepath:\n",
    "    filepath.write(d_json)"
   ]
  }
 ],
 "metadata": {
  "kernelspec": {
   "display_name": "Python 3 (ipykernel)",
   "language": "python",
   "name": "python3"
  },
  "language_info": {
   "codemirror_mode": {
    "name": "ipython",
    "version": 3
   },
   "file_extension": ".py",
   "mimetype": "text/x-python",
   "name": "python",
   "nbconvert_exporter": "python",
   "pygments_lexer": "ipython3",
   "version": "3.9.9"
  }
 },
 "nbformat": 4,
 "nbformat_minor": 5
}
