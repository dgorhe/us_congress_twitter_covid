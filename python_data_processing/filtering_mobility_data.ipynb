{
 "cells": [
  {
   "cell_type": "code",
   "execution_count": 7,
   "id": "e242282e",
   "metadata": {},
   "outputs": [],
   "source": [
    "import pandas as pd"
   ]
  },
  {
   "cell_type": "code",
   "execution_count": 17,
   "id": "518850d8",
   "metadata": {},
   "outputs": [],
   "source": [
    "df.rename(axis=1, columns={\"sub_region_1\": \"state\"}, inplace=True)"
   ]
  },
  {
   "cell_type": "code",
   "execution_count": 20,
   "id": "b062d2de",
   "metadata": {},
   "outputs": [],
   "source": [
    "# Read original file (~80 mb)\n",
    "df = pd.read_csv(\"2020_US_Region_Mobility_Report.csv\")\n",
    "\n",
    "# Drop unused columns\n",
    "cols_to_drop = [\"country_region_code\", \"metro_area\", \"sub_region_2\", \"iso_3166_2_code\", \"census_fips_code\", \"place_id\", \"date\"]\n",
    "df.drop(labels=cols_to_drop, axis=1, inplace=True)\n",
    "\n",
    "# Rename the sub_region_1 column to a more interpretable name\n",
    "df.rename(columns={\"sub_region_1\": \"state\"}, inplace=True)\n",
    "\n",
    "# Subset dataframe by only those values where state is present\n",
    "df = df[pd.notna(df[\"state\"])]"
   ]
  },
  {
   "cell_type": "code",
   "execution_count": 26,
   "id": "e1875f6b",
   "metadata": {},
   "outputs": [],
   "source": [
    "# Find the mean relative change in mobility per state\n",
    "state = df.groupby(by=[\"state\"], axis=0, as_index=False).mean()"
   ]
  },
  {
   "cell_type": "code",
   "execution_count": 28,
   "id": "b74d683e",
   "metadata": {},
   "outputs": [],
   "source": [
    "pd.DataFrame.to_csv(state, \"state_mobility_data.csv\")"
   ]
  }
 ],
 "metadata": {
  "kernelspec": {
   "display_name": "Python 3 (ipykernel)",
   "language": "python",
   "name": "python3"
  },
  "language_info": {
   "codemirror_mode": {
    "name": "ipython",
    "version": 3
   },
   "file_extension": ".py",
   "mimetype": "text/x-python",
   "name": "python",
   "nbconvert_exporter": "python",
   "pygments_lexer": "ipython3",
   "version": "3.9.7"
  }
 },
 "nbformat": 4,
 "nbformat_minor": 5
}
